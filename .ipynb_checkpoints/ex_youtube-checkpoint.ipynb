{
 "cells": [
  {
   "cell_type": "code",
   "execution_count": 1,
   "id": "a09e07fa",
   "metadata": {},
   "outputs": [
    {
     "name": "stdout",
     "output_type": "stream",
     "text": [
      "Qual é seu nome?Diego\n",
      "Olá Diego ! Prazer em te conhecer!\n",
      "É um prazer te conhecer Diego!\n"
     ]
    }
   ],
   "source": [
    "nome= input('Qual é seu nome?')\n",
    "print('Olá',nome,'! Prazer em te conhecer!')\n",
    "print('É um prazer te conhecer {}!'.format(nome))"
   ]
  },
  {
   "cell_type": "code",
   "execution_count": 2,
   "id": "632e971b",
   "metadata": {},
   "outputs": [
    {
     "name": "stdout",
     "output_type": "stream",
     "text": [
      "dia=1\n",
      "mes=julho\n",
      "ano1992\n",
      "Você nasceu no dia 1 de julho de 1992 . Correto?\n",
      "Você nasceu no dia 1 de julho de 1992 . Correto?\n"
     ]
    }
   ],
   "source": [
    "dia=input('dia=')\n",
    "mes=input('mes=')\n",
    "ano=input('ano')\n",
    "print('Você nasceu no dia', dia, 'de', mes,'de', ano,'. Correto?')\n",
    "print('Você nasceu no dia {}'.format(dia),'de {}'.format(mes),'de {}'.format(ano),'. Correto?')\n"
   ]
  },
  {
   "cell_type": "code",
   "execution_count": 3,
   "id": "1afc1910",
   "metadata": {},
   "outputs": [
    {
     "name": "stdout",
     "output_type": "stream",
     "text": [
      "Primeiro numero=5\n",
      "Segundo numero=4\n",
      "A soma é: 54\n"
     ]
    }
   ],
   "source": [
    "n1=input('Primeiro numero=')\n",
    "n2=input('Segundo numero=')\n",
    "soma=(n1 + n2)\n",
    "print('A soma é:', soma) \n"
   ]
  }
 ],
 "metadata": {
  "kernelspec": {
   "display_name": "Python 3",
   "language": "python",
   "name": "python3"
  },
  "language_info": {
   "codemirror_mode": {
    "name": "ipython",
    "version": 3
   },
   "file_extension": ".py",
   "mimetype": "text/x-python",
   "name": "python",
   "nbconvert_exporter": "python",
   "pygments_lexer": "ipython3",
   "version": "3.8.8"
  }
 },
 "nbformat": 4,
 "nbformat_minor": 5
}

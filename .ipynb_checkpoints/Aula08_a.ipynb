{
 "cells": [
  {
   "cell_type": "code",
   "execution_count": 2,
   "id": "37938882",
   "metadata": {},
   "outputs": [
    {
     "name": "stdout",
     "output_type": "stream",
     "text": [
      "Digite um número: 29\n",
      "A raiz quadrada 29 é igual a 5.39\n"
     ]
    }
   ],
   "source": [
    "import math\n",
    "num = int (input('Digite um número: '))\n",
    "raiz = math.sqrt(num)\n",
    "print('A raiz quadrada {} é igual a {:.2f}'.format(num,raiz))\n"
   ]
  },
  {
   "cell_type": "code",
   "execution_count": 5,
   "id": "421b61a4",
   "metadata": {},
   "outputs": [
    {
     "name": "stdout",
     "output_type": "stream",
     "text": [
      "0.8612468155333196\n"
     ]
    }
   ],
   "source": [
    "import random\n",
    "num = random.random()\n",
    "print (num)"
   ]
  },
  {
   "cell_type": "code",
   "execution_count": 8,
   "id": "22433f9d",
   "metadata": {},
   "outputs": [
    {
     "name": "stdout",
     "output_type": "stream",
     "text": [
      "1\n"
     ]
    }
   ],
   "source": [
    "import random\n",
    "num = random.randint(1,10)\n",
    "print (num)"
   ]
  },
  {
   "cell_type": "code",
   "execution_count": null,
   "id": "48e63bbc",
   "metadata": {},
   "outputs": [],
   "source": []
  }
 ],
 "metadata": {
  "kernelspec": {
   "display_name": "Python 3",
   "language": "python",
   "name": "python3"
  },
  "language_info": {
   "codemirror_mode": {
    "name": "ipython",
    "version": 3
   },
   "file_extension": ".py",
   "mimetype": "text/x-python",
   "name": "python",
   "nbconvert_exporter": "python",
   "pygments_lexer": "ipython3",
   "version": "3.8.8"
  }
 },
 "nbformat": 4,
 "nbformat_minor": 5
}
